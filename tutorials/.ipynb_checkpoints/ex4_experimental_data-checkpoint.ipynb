{
 "cells": [
  {
   "cell_type": "markdown",
   "metadata": {},
   "source": [
    "# Gaussian Process Distribution of Relaxation Times. "
   ]
  },
  {
   "cell_type": "markdown",
   "metadata": {},
   "source": [
    "## In this tutorial we will show use the GP-DRT method to analyze actual experimental data\n",
    "\n",
    "The impedance data in the csv file named `EIS_experiment.csv`. The file has three columns. The first column is the frequency, the second one the real part of the impedance. The third column is the imaginary part of impedance. To use this tutorial for your own data, we recommend the frequencies go are sorted ascendingly."
   ]
  },
  {
   "cell_type": "code",
   "execution_count": 1,
   "metadata": {},
   "outputs": [],
   "source": [
    "import numpy as np\n",
    "import matplotlib.pyplot as plt\n",
    "from math import sin, cos, pi\n",
    "import GP_DRT\n",
    "from scipy.optimize import minimize\n",
    "import pandas as pd\n",
    "%matplotlib inline"
   ]
  },
  {
   "cell_type": "markdown",
   "metadata": {},
   "source": [
    "## 1) Read in the impedance data from the csv file\n",
    "### IMPORTANT: the frequency value should be sorted ascendingly (from low to high)"
   ]
  },
  {
   "cell_type": "code",
   "execution_count": 2,
   "metadata": {},
   "outputs": [],
   "source": [
    "Z_data = pd.read_csv('EIS_experiment.csv')\n",
    "freq_vec, Z_exp = Z_data['freq'].values, Z_data['Z_real'].values+1j*Z_data['Z_imag'].values\n",
    "\n",
    "# define the frequency range\n",
    "N_freqs = len(freq_vec)\n",
    "xi_vec = np.log(freq_vec)\n",
    "tau  = 1/freq_vec\n",
    "\n",
    "# define the frequency range used for prediction, we choose a wider range to better display the DRT\n",
    "freq_vec_star = np.logspace(-4., 6., num=101, endpoint=True)\n",
    "xi_vec_star = np.log(freq_vec_star)\n",
    "\n",
    "# finer mesh for plotting only\n",
    "freq_vec_plot  = np.logspace(-4., 6., num=1001, endpoint=True)"
   ]
  },
  {
   "cell_type": "markdown",
   "metadata": {},
   "source": [
    "## 2) Show the impedance spectrum as a Nyquist plot"
   ]
  },
  {
   "cell_type": "code",
   "execution_count": 3,
   "metadata": {},
   "outputs": [
    {
     "data": {
      "image/png": "[encoded data removed]",
      "text/plain": [
       "<Figure size 432x288 with 1 Axes>"
      ]
     },
     "metadata": {
      "needs_background": "light"
     },
     "output_type": "display_data"
    }
   ],
   "source": [
    "# Nyquist plot of the EIS spectrum\n",
    "plt.plot(np.real(Z_exp), -np.imag(Z_exp), \"o\", markersize=10, fillstyle='none', color=\"red\", label=\"experiment\")\n",
    "plt.plot(np.real(Z_exp[40:80:10]), -np.imag(Z_exp[40:80:10]), 'o', markersize=10, color=\"black\")\n",
    "\n",
    "plt.rc('text', usetex=True)\n",
    "plt.rc('font', family='serif', size=15)\n",
    "plt.rc('xtick', labelsize=15)\n",
    "plt.rc('ytick', labelsize=15)\n",
    "plt.legend(frameon=False, fontsize = 15)\n",
    "plt.axis('scaled')\n",
    "\n",
    "# this depends on the data used - if you wish to use your own data you may need to modify this\n",
    "plt.xlim(1.42, 1.52)\n",
    "plt.ylim(-0.001, 0.051)\n",
    "plt.xticks(np.arange(1.42, 1.521, 0.02))\n",
    "plt.yticks(np.arange(0.00, 0.051, 0.01))\n",
    "plt.gca().set_aspect('equal', adjustable='box')\n",
    "plt.xlabel(r'$Z_{\\rm re}/\\Omega$', fontsize = 20)\n",
    "plt.ylabel(r'$-Z_{\\rm im}/\\Omega$', fontsize = 20)\n",
    "\n",
    "# label the frequencies - if you wish to use your own data you may need to modify this\n",
    "label_index = range(40,80,10)\n",
    "move = [[-0.005, 0.008], [-0.005, 0.008], [-0.005, 0.008], [-0.005, 0.01]]\n",
    "for k, ind in enumerate(label_index):\n",
    "    power = int(np.log10(freq_vec[ind]))\n",
    "    num = freq_vec[ind]/(10**(power))\n",
    "    plt.annotate(r'${0:.1f}\\times 10^{1}$'.format(num, power), xy=(np.real(Z_exp[ind]), -np.imag(Z_exp[ind])), \n",
    "                 xytext=(np.real(Z_exp[ind])+move[k][0], move[k][1]-np.imag(Z_exp[ind])), \n",
    "                 arrowprops=dict(arrowstyle=\"-\", connectionstyle=\"arc\"))\n",
    "plt.show()"
   ]
  },
  {
   "cell_type": "markdown",
   "metadata": {},
   "source": [
    "## 3) Compute the optimal hyperparameters\n",
    "### Note: the intial parameters may need to be adjusted according to the specific problem"
   ]
  },
  {
   "cell_type": "code",
   "execution_count": 4,
   "metadata": {},
   "outputs": [
    {
     "name": "stdout",
     "output_type": "stream",
     "text": [
      "sigma_n,   sigma_f,   ell\n",
      "0.0373346  0.0045175  1.0000012\n",
      "0.0003046  0.3966704  1.0003612\n",
      "0.0003029  0.3966881  1.0004665\n",
      "0.0003008  0.3965080  1.6176309\n",
      "0.0002903  0.3961564  3.0251525\n",
      "0.0002962  0.3957943  3.8833901\n",
      "0.0003193  0.3955872  3.7220903\n",
      "0.0003122  0.3956723  3.6404528\n",
      "0.0003056  0.3957285  3.5879541\n",
      "0.0003067  0.3957004  3.6022674\n",
      "0.0003071  0.3955843  3.6067709\n",
      "0.0003091  0.3944527  3.6278239\n",
      "0.0003113  0.3922269  3.6506922\n",
      "0.0003141  0.3880468  3.6778635\n",
      "0.0003179  0.3801503  3.7139127\n",
      "0.0003467  0.3043814  3.9826429\n",
      "0.0003572  0.2720158  4.0972353\n",
      "0.0003689  0.2256411  4.1635069\n",
      "0.0003861  0.1250295  4.0463844\n",
      "0.0003895  0.0980660  3.9781624\n",
      "0.0003906  0.0733798  3.8616912\n",
      "0.0003880  0.0446447  3.6580009\n",
      "0.0003753  0.0219573  3.3487371\n",
      "0.0003510  0.0159778  3.0263504\n",
      "0.0003040  0.0154559  2.5317168\n",
      "0.0002889  0.0110880  2.3160207\n",
      "0.0002844  0.0079927  2.1662062\n",
      "0.0002779  0.0061406  1.8588635\n",
      "0.0002823  0.0069000  1.8310127\n",
      "0.0002961  0.0063555  1.7757686\n",
      "0.0002954  0.0063795  1.7762458\n",
      "0.0002953  0.0063750  1.7756560\n",
      "0.0002953  0.0063749  1.7756451\n",
      "0.0002953  0.0063749  1.7756444\n",
      "0.0002953  0.0063749  1.7756444\n",
      "0.0002953  0.0063749  1.7756444\n",
      "0.0002953  0.0063749  1.7756444\n",
      "0.0002953  0.0063749  1.7756444\n",
      "Warning: Desired error not necessarily achieved due to precision loss.\n",
      "         Current function value: -577.496686\n",
      "         Iterations: 38\n",
      "         Function evaluations: 215\n",
      "         Gradient evaluations: 194\n"
     ]
    }
   ],
   "source": [
    "# initial parameters parameter to maximize the marginal log-likelihood as shown in eq (31)\n",
    "sigma_n = 1.0E-4\n",
    "sigma_f = 1.0E-3\n",
    "ell = 1.0\n",
    "\n",
    "theta_0 = np.array([sigma_n, sigma_f, ell])\n",
    "seq_theta = np.copy(theta_0)\n",
    "def print_results(theta):\n",
    "    global seq_theta\n",
    "    seq_theta = np.vstack((seq_theta, theta))\n",
    "    print('{0:.7f}  {1:.7f}  {2:.7f}'.format(theta[0], theta[1], theta[2]))\n",
    "    \n",
    "print('sigma_n,   sigma_f,   ell')\n",
    "\n",
    "# minimize the NMLL $L(\\theta)$ w.r.t sigma_n, sigma_f, ell using the BFGS method as implemented in scipy\n",
    "res = minimize(GP_DRT.NMLL_fct, theta_0, args=(Z_exp, xi_vec), method='BFGS', \\\n",
    "               jac=GP_DRT.grad_NMLL_fct,  callback=print_results, options={'disp': True})\n",
    "\n",
    "# collect the optimized parameters\n",
    "sigma_n, sigma_f, ell = res.x"
   ]
  },
  {
   "cell_type": "markdown",
   "metadata": {},
   "source": [
    "## 4) Core of the GP-DRT"
   ]
  },
  {
   "cell_type": "markdown",
   "metadata": {},
   "source": [
    "### 4a) Compute matrices"
   ]
  },
  {
   "cell_type": "code",
   "execution_count": 5,
   "metadata": {},
   "outputs": [],
   "source": [
    "# calculate the matrices shown in eq (18)\n",
    "K = GP_DRT.matrix_K(xi_vec, xi_vec, sigma_f, ell)\n",
    "L_im_K = GP_DRT.matrix_L_im_K(xi_vec, xi_vec, sigma_f, ell)\n",
    "L2_im_K = GP_DRT.matrix_L2_im_K(xi_vec, xi_vec, sigma_f, ell)\n",
    "Sigma = (sigma_n**2)*np.eye(N_freqs)"
   ]
  },
  {
   "cell_type": "markdown",
   "metadata": {},
   "source": [
    "### 4b) Factorize the matrices and solve the linear equations"
   ]
  },
  {
   "cell_type": "code",
   "execution_count": 6,
   "metadata": {},
   "outputs": [],
   "source": [
    "# the matrix $\\mathcal L^2_{\\rm im} \\mathbf K + \\sigma_n^2 \\mathbf I$ whose inverse is needed\n",
    "K_im_full = L2_im_K + Sigma\n",
    "\n",
    "# Cholesky factorization, L is a lower-triangular matrix\n",
    "L = np.linalg.cholesky(K_im_full)\n",
    "\n",
    "# solve for alpha\n",
    "alpha = np.linalg.solve(L, Z_exp.imag)\n",
    "alpha = np.linalg.solve(L.T, alpha)\n",
    "\n",
    "# estimate the gamma of eq (21a)\n",
    "gamma_fct_est = np.dot(L_im_K, alpha)\n",
    "\n",
    "# covariance matrix\n",
    "inv_L = np.linalg.inv(L)\n",
    "inv_K_im_full = np.dot(inv_L.T, inv_L)\n",
    "\n",
    "# estimate the sigma of gamma for eq (21b)\n",
    "cov_gamma_fct_est = K - np.dot(L_im_K, np.dot(inv_K_im_full, L_im_K.T))\n",
    "sigma_gamma_fct_est = np.sqrt(np.diag(cov_gamma_fct_est))"
   ]
  },
  {
   "cell_type": "markdown",
   "metadata": {},
   "source": [
    "### 4c) Predict the imaginary part of the GP-DRT and impedance"
   ]
  },
  {
   "cell_type": "code",
   "execution_count": 7,
   "metadata": {},
   "outputs": [],
   "source": [
    "# initialize the imaginary part of impedance vector\n",
    "Z_im_vec_star = np.empty_like(xi_vec_star)\n",
    "Sigma_Z_im_vec_star = np.empty_like(xi_vec_star)\n",
    "\n",
    "gamma_vec_star = np.empty_like(xi_vec_star)\n",
    "Sigma_gamma_vec_star = np.empty_like(xi_vec_star)\n",
    "\n",
    "# calculate the imaginary part of impedance at each $\\xi$ point for the plot\n",
    "for index, val in enumerate(xi_vec_star):\n",
    "    xi_star = np.array([val])\n",
    "\n",
    "    # compute matrices shown in eq (18), xi_star corresponds to a new point\n",
    "    k_star = GP_DRT.matrix_K(xi_vec, xi_star, sigma_f, ell)\n",
    "    L_im_k_star_up = GP_DRT.matrix_L_im_K(xi_star, xi_vec, sigma_f, ell)\n",
    "    L2_im_k_star = GP_DRT.matrix_L2_im_K(xi_vec, xi_star, sigma_f, ell)\n",
    "    k_star_star = GP_DRT.matrix_K(xi_star, xi_star, sigma_f, ell)\n",
    "    L_im_k_star_star = GP_DRT.matrix_L_im_K(xi_star, xi_star, sigma_f, ell)\n",
    "    L2_im_k_star_star = GP_DRT.matrix_L2_im_K(xi_star, xi_star, sigma_f, ell)\n",
    "\n",
    "    # compute Z_im_star mean and standard deviation using eq (26)\n",
    "    Z_im_vec_star[index] = np.dot(L2_im_k_star.T, np.dot(inv_K_im_full, Z_exp.imag))\n",
    "    Sigma_Z_im_vec_star[index] = L2_im_k_star_star - np.dot(L2_im_k_star.T, np.dot(inv_K_im_full, L2_im_k_star))\n",
    "    \n",
    "    # compute gamma_star mean and standard deviation using eq (29)\n",
    "    gamma_vec_star[index] = np.dot(L_im_k_star_up, np.dot(inv_K_im_full, Z_exp.imag))\n",
    "    Sigma_gamma_vec_star[index] = k_star_star - np.dot(L_im_k_star_up, np.dot(inv_K_im_full, L_im_k_star_up.T))"
   ]
  },
  {
   "cell_type": "markdown",
   "metadata": {},
   "source": [
    "### 4d) Plot the obtained GP-DRT"
   ]
  },
  {
   "cell_type": "code",
   "execution_count": 8,
   "metadata": {},
   "outputs": [
    {
     "data": {
      "image/png": "[encoded data removed]",
      "text/plain": [
       "<Figure size 432x288 with 1 Axes>"
      ]
     },
     "metadata": {
      "needs_background": "light"
     },
     "output_type": "display_data"
    }
   ],
   "source": [
    "# plot the DRT and its confidence region\n",
    "plt.semilogx(freq_vec_star, gamma_vec_star, linewidth=4, color=\"red\", label=\"GP-DRT\")\n",
    "plt.fill_between(freq_vec_star, gamma_vec_star-3*np.sqrt(abs(Sigma_gamma_vec_star)), gamma_vec_star+3*np.sqrt(abs(Sigma_gamma_vec_star)), color=\"0.4\", alpha=0.3)\n",
    "plt.rc('text', usetex=True)\n",
    "plt.rc('font', family='serif', size=15)\n",
    "plt.rc('xtick', labelsize=15)\n",
    "plt.rc('ytick', labelsize=15)\n",
    "plt.axis([1E-4,1E6,-0.01,0.025])\n",
    "plt.yticks(np.arange(-0.01, 0.025, 0.01))\n",
    "plt.legend(frameon=False, fontsize = 15)\n",
    "plt.xlabel(r'$f/{\\rm Hz}$', fontsize = 20)\n",
    "plt.ylabel(r'$\\gamma/\\Omega$', fontsize = 20)\n",
    "plt.show()"
   ]
  },
  {
   "cell_type": "markdown",
   "metadata": {},
   "source": [
    "### 4e) Plot the imaginary part of the GP-DRT impedance together with the experimental one"
   ]
  },
  {
   "cell_type": "code",
   "execution_count": 9,
   "metadata": {},
   "outputs": [
    {
     "data": {
      "image/png": "[encoded data removed]",
      "text/plain": [
       "<Figure size 432x288 with 1 Axes>"
      ]
     },
     "metadata": {
      "needs_background": "light"
     },
     "output_type": "display_data"
    }
   ],
   "source": [
    "plt.semilogx(freq_vec, -Z_exp.imag, \"o\", markersize=10, color=\"black\", label=\"synth exp\")\n",
    "plt.semilogx(freq_vec_star, -Z_im_vec_star, linewidth=4, color=\"red\", label=\"GP-DRT\")\n",
    "plt.fill_between(freq_vec_star, -Z_im_vec_star-3*np.sqrt(abs(Sigma_Z_im_vec_star)), -Z_im_vec_star+\\\n",
    "                 3*np.sqrt(abs(Sigma_Z_im_vec_star)), alpha=0.3)\n",
    "plt.rc('text', usetex=True)\n",
    "plt.rc('font', family='serif', size=15)\n",
    "plt.rc('xtick', labelsize=15)\n",
    "plt.rc('ytick', labelsize=15)\n",
    "plt.axis([1E-3,1E5,-0.01,0.03])\n",
    "plt.legend(frameon=False, fontsize = 15)\n",
    "plt.xlabel(r'$f/{\\rm Hz}$', fontsize = 20)\n",
    "plt.ylabel(r'$-Z_{\\rm im}/\\Omega$', fontsize = 20)\n",
    "plt.show()"
   ]
  },
  {
   "cell_type": "code",
   "execution_count": null,
   "metadata": {},
   "outputs": [],
   "source": []
  }
 ],
 "metadata": {
  "kernelspec": {
   "display_name": "Python 3",
   "language": "python",
   "name": "python3"
  },
  "language_info": {
   "codemirror_mode": {
    "name": "ipython",
    "version": 3
   },
   "file_extension": ".py",
   "mimetype": "text/x-python",
   "name": "python",
   "nbconvert_exporter": "python",
   "pygments_lexer": "ipython3",
   "version": "3.8.3"
  }
 },
 "nbformat": 4,
 "nbformat_minor": 2
}
