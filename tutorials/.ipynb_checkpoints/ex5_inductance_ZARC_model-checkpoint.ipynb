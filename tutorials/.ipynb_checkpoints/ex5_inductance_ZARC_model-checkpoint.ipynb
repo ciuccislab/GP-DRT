{
 "cells": [
  {
   "cell_type": "markdown",
   "metadata": {},
   "source": [
    "##### Gaussian Process Distribution of Relaxation Times. \n",
    "## In this tutorial we will reproduce Figure 10 of the article https://doi.org/10.1016/j.electacta.2019.135316\n",
    "\n",
    "This tutorial shows how the GP-DRT model can recover DRT from the impedance including the inductance at high frequency.\n",
    "\n",
    "The impedance and analytical DRT in this tutorial share the same format as in `ex1_simple_ZARC_model.ipynb`. The only difference is that an inductor of $L_{0}=500~\\mu\\rm {H}$ is added in the equivalent circuit model."
   ]
  },
  {
   "cell_type": "code",
   "execution_count": 1,
   "metadata": {},
   "outputs": [],
   "source": [
    "import numpy as np\n",
    "import matplotlib.pyplot as plt\n",
    "from math import sin, cos, pi\n",
    "import GP_DRT\n",
    "from scipy.optimize import minimize\n",
    "%matplotlib inline"
   ]
  },
  {
   "cell_type": "markdown",
   "metadata": {},
   "source": [
    "## 1) Define parameters of the ZARC circuit"
   ]
  },
  {
   "cell_type": "code",
   "execution_count": 2,
   "metadata": {},
   "outputs": [],
   "source": [
    "# define the frequency range\n",
    "N_freqs = 81\n",
    "freq_vec = np.logspace(-4., 4., num=N_freqs, endpoint=True)\n",
    "xi_vec = np.log(freq_vec)\n",
    "tau  = 1/freq_vec\n",
    "\n",
    "# define the frequency range used for prediction\n",
    "freq_vec_star = np.logspace(-4., 4., num=81, endpoint=True)\n",
    "xi_vec_star = np.log(freq_vec_star)\n",
    "\n",
    "# parameters for ZARC model\n",
    "R_inf = 10\n",
    "R_ct = 50\n",
    "phi = 0.8\n",
    "tau_0 = 1.\n",
    "L_0 = 5E-4\n",
    "\n",
    "C = tau_0**phi/R_ct\n",
    "Z_exact = R_inf + 1j*(2*pi*freq_vec)*L_0 + 1./(1./R_ct+C*(1j*2.*pi*freq_vec)**phi)\n",
    "gamma_fct = (R_ct)/(2.*pi)*sin((1.-phi)*pi)/(np.cosh(phi*np.log(tau/tau_0))-cos((1.-phi)*pi))\n",
    "\n",
    "# used for plotting only\n",
    "freq_vec_plot  = np.logspace(-4., 4., num=10*(N_freqs-1), endpoint=True)\n",
    "tau_plot  = 1/freq_vec_plot\n",
    "# for plotting only\n",
    "gamma_fct_plot = (R_ct)/(2.*pi)*sin((1.-phi)*pi)/(np.cosh(phi*np.log(tau_plot/tau_0))-cos((1.-phi)*pi))\n",
    "\n",
    "# adding random noise to the impedance\n",
    "rng = np.random.seed(214974)\n",
    "sigma_n_exp = 0.5\n",
    "Z_exp = Z_exact + sigma_n_exp*(np.random.normal(0, 1, N_freqs)+1j*np.random.normal(0, 1, N_freqs))"
   ]
  },
  {
   "cell_type": "markdown",
   "metadata": {},
   "source": [
    "## 2) show the synthetic impedance in a Nyquist plot. \n",
    "### Note: this is similar to Figure 10 (a)"
   ]
  },
  {
   "cell_type": "code",
   "execution_count": 3,
   "metadata": {},
   "outputs": [
    {
     "data": {
      "image/png": "[encoded data removed]",
      "text/plain": [
       "<Figure size 432x288 with 1 Axes>"
      ]
     },
     "metadata": {
      "needs_background": "light"
     },
     "output_type": "display_data"
    }
   ],
   "source": [
    "# Nyquist plot of impedance together with labeled frequency points\n",
    "fig, ax = plt.subplots()\n",
    "plt.plot(np.real(Z_exact), -np.imag(Z_exact), linewidth=4, color=\"black\", label=\"exact\")\n",
    "plt.plot(np.real(Z_exp), -np.imag(Z_exp), \"o\", markersize=10, color=\"red\", label=\"synth exp\")\n",
    "plt.annotate(r'$10^{-4}$', xy=(np.real(Z_exp[0]), -np.imag(Z_exp[0])), \n",
    "             xytext=(np.real(Z_exp[0])-15, -np.imag(Z_exp[0])), \n",
    "             arrowprops=dict(arrowstyle=\"-\",connectionstyle=\"arc\"))\n",
    "plt.annotate(r'$10^{-1}$', xy=(np.real(Z_exp[20]), -np.imag(Z_exp[20])), \n",
    "             xytext=(np.real(Z_exp[20])-5, 10-np.imag(Z_exp[20])), \n",
    "             arrowprops=dict(arrowstyle=\"-\",connectionstyle=\"arc\"))\n",
    "plt.annotate(r'$1$', xy=(np.real(Z_exp[30]), -np.imag(Z_exp[30])), \n",
    "             xytext=(np.real(Z_exp[30]), 8-np.imag(Z_exp[30])), \n",
    "             arrowprops=dict(arrowstyle=\"-\",connectionstyle=\"arc\"))\n",
    "plt.annotate(r'$10$', xy=(np.real(Z_exp[40]), -np.imag(Z_exp[40])), \n",
    "             xytext=(np.real(Z_exp[40]), 8-np.imag(Z_exp[40])), \n",
    "             arrowprops=dict(arrowstyle=\"-\",connectionstyle=\"arc\"))\n",
    "plt.annotate(r'$10^2$', xy=(np.real(Z_exp[60]), -np.imag(Z_exp[60])), \n",
    "             xytext=(np.real(Z_exp[60])+5, -np.imag(Z_exp[60])), \n",
    "             arrowprops=dict(arrowstyle=\"-\",connectionstyle=\"arc\"))\n",
    "plt.annotate(r'$5\\times 10^3$', xy=(np.real(Z_exp[77]), -np.imag(Z_exp[77])), \n",
    "             xytext=(np.real(Z_exp[77])+5, -np.imag(Z_exp[77])), \n",
    "             arrowprops=dict(arrowstyle=\"-\",connectionstyle=\"arc\"))\n",
    "plt.rc('text', usetex=True)\n",
    "plt.rc('font', family='serif', size=15)\n",
    "plt.rc('xtick', labelsize=15)\n",
    "plt.rc('ytick', labelsize=15)\n",
    "plt.legend(frameon=False, fontsize = 15)\n",
    "plt.axis('scaled')\n",
    "\n",
    "plt.xticks(range(10, 70, 10))\n",
    "plt.yticks(range(-30, 40, 10))\n",
    "plt.gca().set_aspect('equal', adjustable='box')\n",
    "plt.xlabel(r'$Z_{\\rm re}/\\Omega$', fontsize = 20)\n",
    "plt.ylabel(r'$-Z_{\\rm im}/\\Omega$', fontsize = 20)\n",
    "plt.show()"
   ]
  },
  {
   "cell_type": "markdown",
   "metadata": {},
   "source": [
    "## 3) Compute the optimal hyperparameters"
   ]
  },
  {
   "cell_type": "code",
   "execution_count": 4,
   "metadata": {},
   "outputs": [
    {
     "name": "stdout",
     "output_type": "stream",
     "text": [
      "sigma_n,   sigma_f,   ell,       sigma_L\n",
      "0.4999994  5.6000000  0.9000003  0.0007129\n",
      "0.4783180  5.5996571  0.9093610  0.0007138\n",
      "0.4784722  5.5971341  0.9761654  0.0007134\n",
      "0.4786302  5.5398552  1.1156550  0.0007052\n",
      "0.4806697  5.5553961  1.4395532  0.0006567\n",
      "0.4814963  5.7338434  1.3170056  0.0006469\n",
      "0.4811801  5.7848347  1.3435225  0.0006199\n",
      "0.4810202  5.8622583  1.3707405  0.0005578\n",
      "0.4810493  5.8534375  1.3638917  0.0005450\n",
      "0.4811226  5.8227503  1.3537372  0.0005396\n",
      "0.4811214  5.8165253  1.3536523  0.0005392\n",
      "0.4811196  5.8137873  1.3537183  0.0005394\n",
      "0.4811197  5.8138615  1.3537392  0.0005393\n",
      "0.4811196  5.8138589  1.3537368  0.0005393\n",
      "Optimization terminated successfully.\n",
      "         Current function value: 19.343917\n",
      "         Iterations: 14\n",
      "         Function evaluations: 23\n",
      "         Gradient evaluations: 23\n"
     ]
    }
   ],
   "source": [
    "# initialize the parameter for global 3D optimization to maximize the marginal log-likelihood as shown in eq (31)\n",
    "sigma_n = sigma_n_exp\n",
    "sigma_f = 5.6\n",
    "ell = 0.9\n",
    "sigma_L = 3E-4\n",
    "\n",
    "theta_0 = np.array([sigma_n, sigma_f, ell, sigma_L])\n",
    "seq_theta = np.copy(theta_0)\n",
    "def print_results(theta):\n",
    "    global seq_theta\n",
    "    seq_theta = np.vstack((seq_theta, theta))\n",
    "    print('{0:.7f}  {1:.7f}  {2:.7f}  {3:.7f}'.format(theta[0], theta[1], theta[2], theta[3]))\n",
    "    \n",
    "print('sigma_n,   sigma_f,   ell,       sigma_L')\n",
    "\n",
    "# minimize the NMLL L(\\theta) w.r.t sigma_n, sigma_f, ell using the BFGS method as implemented in scipy\n",
    "res = minimize(GP_DRT.NMLL_fct_L, theta_0, args=(Z_exp, xi_vec), method='BFGS', \\\n",
    "               jac=GP_DRT.grad_NMLL_fct_L, callback=print_results, options={'disp': True})\n",
    "\n",
    "# collect the optimized parameters\n",
    "sigma_n, sigma_f, ell, sigma_L = res.x"
   ]
  },
  {
   "cell_type": "markdown",
   "metadata": {},
   "source": [
    "## 4) Core of the GP-DRT"
   ]
  },
  {
   "cell_type": "markdown",
   "metadata": {},
   "source": [
    "### 4a) Compute matrices"
   ]
  },
  {
   "cell_type": "code",
   "execution_count": 5,
   "metadata": {},
   "outputs": [],
   "source": [
    "# calculate the matrices shown in eq (38)\n",
    "K = GP_DRT.matrix_K(xi_vec, xi_vec, sigma_f, ell)\n",
    "L_im_K = GP_DRT.matrix_L_im_K(xi_vec, xi_vec, sigma_f, ell)\n",
    "L2_im_K = GP_DRT.matrix_L2_im_K(xi_vec, xi_vec, sigma_f, ell)\n",
    "h_L = GP_DRT.compute_h_L(xi_vec)\n",
    "Sigma = (sigma_n**2)*np.eye(N_freqs)"
   ]
  },
  {
   "cell_type": "markdown",
   "metadata": {},
   "source": [
    "### 4b) Factorize the matrices and solve the linear equations"
   ]
  },
  {
   "cell_type": "code",
   "execution_count": 6,
   "metadata": {},
   "outputs": [],
   "source": [
    "# the matrix in (38), $\\mathcal L^2_{\\rm im}\\mathbf K+\\sigma_n^2\\mathbf I+\\sigma_n^2 \\mathbf{h} \\mathbf{h}^\\top$ \n",
    "# whose inverse is needed\n",
    "K_im_full = L2_im_K + Sigma + (sigma_L**2)*np.outer(h_L, h_L)\n",
    "\n",
    "# Cholesky factorization, L is a lower-triangular matrix\n",
    "L = np.linalg.cholesky(K_im_full)\n",
    "\n",
    "# solve for alpha\n",
    "alpha = np.linalg.solve(L, Z_exp.imag)\n",
    "alpha = np.linalg.solve(L.T, alpha)\n",
    "\n",
    "# covariance matrix\n",
    "inv_L = np.linalg.inv(L)\n",
    "inv_K_im_full = np.dot(inv_L.T, inv_L)"
   ]
  },
  {
   "cell_type": "markdown",
   "metadata": {},
   "source": [
    "### 4c) Predict the imaginary part of the GP-DRT and impedance"
   ]
  },
  {
   "cell_type": "code",
   "execution_count": 7,
   "metadata": {},
   "outputs": [],
   "source": [
    "# initialize the imaginary part of impedance vector\n",
    "Z_im_vec_star = np.empty_like(xi_vec_star)\n",
    "Sigma_Z_im_vec_star = np.empty_like(xi_vec_star)\n",
    "\n",
    "gamma_vec_star = np.empty_like(xi_vec_star)\n",
    "Sigma_gamma_vec_star = np.empty_like(xi_vec_star)\n",
    "\n",
    "# calculate the imaginary part of impedance at each $\\xi$ point for the plot\n",
    "for index, val in enumerate(xi_vec_star):\n",
    "    xi_star = np.array([val])\n",
    "\n",
    "    # compute matrices shown in eq (40), xi_star corresponds to a new point\n",
    "    k_star = GP_DRT.matrix_K(xi_vec, xi_star, sigma_f, ell)\n",
    "    L_im_k_star_up = GP_DRT.matrix_L_im_K(xi_star, xi_vec, sigma_f, ell)\n",
    "    L2_im_k_star_up = GP_DRT.matrix_L2_im_K(xi_vec, xi_star, sigma_f, ell)\n",
    "    k_star_star = GP_DRT.matrix_K(xi_star, xi_star, sigma_f, ell)\n",
    "    L_im_k_star_star = GP_DRT.matrix_L_im_K(xi_star, xi_star, sigma_f, ell)\n",
    "    L2_im_k_star_star = GP_DRT.matrix_L2_im_K(xi_star, xi_star, sigma_f, ell)\n",
    "\n",
    "    # assemble the matrix for equation (41)\n",
    "    L2_im_k_star_up = L2_im_k_star_up.T + (sigma_L**2)*(GP_DRT.compute_h_L(xi_star))*h_L.T\n",
    "    L2_im_k_star_star  = L2_im_k_star_star + (sigma_L**2)*(GP_DRT.compute_h_L(xi_star)**2)\n",
    "    \n",
    "    # compute Z_im_star mean and standard deviation following eq (26)\n",
    "    Z_im_vec_star[index] = np.dot(L2_im_k_star_up, np.dot(inv_K_im_full,Z_exp.imag))\n",
    "    Sigma_Z_im_vec_star[index] = L2_im_k_star_star-np.dot(L2_im_k_star_up, np.dot(inv_K_im_full, L2_im_k_star_up.T))\n",
    "    \n",
    "    # compute gamma_star mean and standard deviation following eq (47)\n",
    "    gamma_vec_star[index] = np.dot(L_im_k_star_up, np.dot(inv_K_im_full,Z_exp.imag))\n",
    "    Sigma_gamma_vec_star[index] = k_star_star-np.dot(L_im_k_star_up, np.dot(inv_K_im_full, L_im_k_star_up.T))"
   ]
  },
  {
   "cell_type": "markdown",
   "metadata": {},
   "source": [
    "### 4d) Plot the obtained GP-DRT against the analytical DRT\n",
    "Note: we can see the prediction credibility interval broadening at low frequencies"
   ]
  },
  {
   "cell_type": "code",
   "execution_count": 8,
   "metadata": {},
   "outputs": [
    {
     "data": {
      "image/png": "[encoded data removed]",
      "text/plain": [
       "<Figure size 432x288 with 1 Axes>"
      ]
     },
     "metadata": {
      "needs_background": "light"
     },
     "output_type": "display_data"
    }
   ],
   "source": [
    "# plot the DRT and its confidence region\n",
    "plt.semilogx(freq_vec_plot, gamma_fct_plot, linewidth=4, color=\"black\", label=\"exact\")\n",
    "plt.semilogx(freq_vec_star, gamma_vec_star, linewidth=4, color=\"red\", label=\"GP-DRT\")\n",
    "plt.fill_between(freq_vec_star, gamma_vec_star-3*np.sqrt(abs(Sigma_gamma_vec_star)), gamma_vec_star+3*np.sqrt(abs(Sigma_gamma_vec_star)), color=\"0.4\", alpha=0.3)\n",
    "plt.rc('text', usetex=True)\n",
    "plt.rc('font', family='serif', size=15)\n",
    "plt.rc('xtick', labelsize=15)\n",
    "plt.rc('ytick', labelsize=15)\n",
    "plt.axis([1E-4,1E4,-5,25])\n",
    "plt.legend(frameon=False, fontsize = 15)\n",
    "plt.xlabel(r'$f/{\\rm Hz}$', fontsize = 20)\n",
    "plt.ylabel(r'$\\gamma/\\Omega$', fontsize = 20)\n",
    "plt.show()"
   ]
  },
  {
   "cell_type": "markdown",
   "metadata": {},
   "source": [
    "### 4e) Plot the imaginary part of the GP-DRT impedance together with the exact one and the synthetic experiment\n",
    "Note: we can see the prediction credibility interval broadening at low frequencies"
   ]
  },
  {
   "cell_type": "code",
   "execution_count": 9,
   "metadata": {},
   "outputs": [
    {
     "data": {
      "image/png": "[encoded data removed]",
      "text/plain": [
       "<Figure size 432x288 with 1 Axes>"
      ]
     },
     "metadata": {
      "needs_background": "light"
     },
     "output_type": "display_data"
    }
   ],
   "source": [
    "plt.semilogx(freq_vec, -Z_exp.imag, \"o\", markersize=10, color=\"black\", label=\"synth exp\")\n",
    "plt.semilogx(freq_vec_star, -Z_im_vec_star, linewidth=4, color=\"red\", label=\"GP-DRT\")\n",
    "plt.fill_between(freq_vec_star, -Z_im_vec_star-3*np.sqrt(abs(Sigma_Z_im_vec_star)), -Z_im_vec_star+3*np.sqrt(abs(Sigma_Z_im_vec_star)), alpha=0.3)\n",
    "plt.rc('text', usetex=True)\n",
    "plt.rc('font', family='serif', size=15)\n",
    "plt.rc('xtick', labelsize=15)\n",
    "plt.rc('ytick', labelsize=15)\n",
    "plt.axis([1E-4,1.3E4,-33,33])\n",
    "plt.legend(frameon=False, fontsize = 15)\n",
    "plt.xlabel(r'$f/{\\rm Hz}$', fontsize = 20)\n",
    "plt.ylabel(r'$-Z_{\\rm im}/\\Omega$', fontsize = 20)\n",
    "plt.show()"
   ]
  },
  {
   "cell_type": "markdown",
   "metadata": {},
   "source": [
    "### 4f) estimate the inductance $L_{0}$"
   ]
  },
  {
   "cell_type": "code",
   "execution_count": 10,
   "metadata": {},
   "outputs": [
    {
     "name": "stdout",
     "output_type": "stream",
     "text": [
      "The estimated L_0 is 0.0005 H.\n"
     ]
    }
   ],
   "source": [
    "# the inductance is predicted as following by the equation (44a) \n",
    "K_im_full_reg = L2_im_K + Sigma\n",
    "\n",
    "# covariance matrix $\\mathcal L^2_{\\rm im} \\mathbf K + \\sigma_n^2 \\mathbf I$\n",
    "L = np.linalg.cholesky(K_im_full_reg)\n",
    "inv_L = np.linalg.inv(L)\n",
    "inv_K_im_full_reg = np.dot(inv_L.T, inv_L)\n",
    "\n",
    "# the numerator and denominator of the equation (44a)\n",
    "num_L_0 = np.dot(np.dot(inv_K_im_full_reg, Z_exp.imag), h_L)\n",
    "den_L_0 = (sigma_L**-2) + np.dot(h_L.T, np.dot(inv_K_im_full_reg, h_L))\n",
    "\n",
    "L_0_est = num_L_0/den_L_0\n",
    "print('The estimated L_0 is {0:.4f} H.'.format(L_0_est[0][0]))"
   ]
  },
  {
   "cell_type": "code",
   "execution_count": null,
   "metadata": {},
   "outputs": [],
   "source": []
  }
 ],
 "metadata": {
  "kernelspec": {
   "display_name": "Python 3",
   "language": "python",
   "name": "python3"
  },
  "language_info": {
   "codemirror_mode": {
    "name": "ipython",
    "version": 3
   },
   "file_extension": ".py",
   "mimetype": "text/x-python",
   "name": "python",
   "nbconvert_exporter": "python",
   "pygments_lexer": "ipython3",
   "version": "3.8.3"
  }
 },
 "nbformat": 4,
 "nbformat_minor": 2
}
