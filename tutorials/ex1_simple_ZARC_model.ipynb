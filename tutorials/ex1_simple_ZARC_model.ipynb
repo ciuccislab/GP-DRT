{
 "cells": [
  {
   "cell_type": "markdown",
   "metadata": {},
   "source": [
    "# Gaussian Process Distribution of Relaxation Times"
   ]
  },
  {
   "cell_type": "markdown",
   "metadata": {},
   "source": [
    "## In this tutorial we will reproduce Figure 7 of the article https://doi.org/10.1016/j.electacta.2019.135316\n",
    "\n",
    "GP-DRT is our newly developed approach that can be used to obtain both the mean and covariance of the DRT from the EIS data by assuming that the DRT is a Gaussian process (GP). The GP-DRP can  predict the DRT and the imaginary part of the impedance at frequencies that were not previously measured.\n",
    "\n",
    "To obtain the DRT from the impedance we take that $\\gamma(\\xi)$ is a GP where $f$ is the frequency and $\\xi=\\log f$. Under the DRT model and considering that GPs are closed linear transformations, it follows that $Z^{\\rm DRT}_{\\rm im}\\left(\\xi\\right)$ is also a GP.\n",
    "\n",
    "More precisely we can write\n",
    "\n",
    "$$\\begin{pmatrix}\n",
    "\\gamma(\\xi) \\\\\n",
    "Z^{\\rm DRT}_{\\rm im}\\left(\\xi\\right)\n",
    "\\end{pmatrix}\\sim \\mathcal{GP}\\left(\\mathbf 0, \\begin{pmatrix}\n",
    "k(\\xi, \\xi^\\prime) & \\mathcal L^{\\rm im}_{\\xi^\\prime} \\left(k(\\xi, \\xi^\\prime)\\right)\\\\\n",
    "\\mathcal L^{\\rm im}_{\\xi} k(\\xi, \\xi^\\prime) & \\mathcal L^{\\rm im}_{\\xi^\\prime}\\left(\\mathcal L^{\\rm im}_{\\xi} \\left(k(\\xi, \\xi^\\prime)\\right)\\right)\n",
    "\\end{pmatrix}\\right)$$\n",
    "\n",
    "where\n",
    "\n",
    "$$\\mathcal L^{\\rm im}_\\xi \\left(\\cdot\\right) = -\\displaystyle \\int_{-\\infty}^\\infty \\frac{2\\pi \\displaystyle e^{\\xi-\\hat \\xi}}{1+\\left(2\\pi \\displaystyle e^{\\xi-\\hat \\xi}\\right)^2}  \\left(\\cdot\\right) d \\hat \\xi$$\n",
    "\n",
    "is a linear functional. The latter functional, transforms the DRT to the imaginary part of the impedance.\n",
    "\n",
    "Assuming we have $N$ observations, we can set $\\left(\\mathbf Z^{\\rm exp}_{\\rm im}\\right)_n = Z^{\\rm exp}_{\\rm im}(\\xi_n)$ with $\\xi_n =\\log f_n$ and $n =1, 2, \\ldots N $. The corresponding multivariate Gaussian random variable can be written as \n",
    "\n",
    "$$\\begin{pmatrix}\n",
    "\\boldsymbol{\\gamma} \\\\\n",
    "\\mathbf Z^{\\rm exp}_{\\rm im}\n",
    "\\end{pmatrix}\\sim \\mathcal{N}\\left(\\mathbf 0, \\begin{pmatrix}\n",
    "\\mathbf K & \\mathcal L_{\\rm im} \\mathbf K\\\\\n",
    "\\mathcal L_{\\rm im}^\\sharp \\mathbf K & \\mathcal L^2_{\\rm im} \\mathbf K + \\sigma_n^2 \\mathbf I\n",
    "\\end{pmatrix}\\right)$$\n",
    "\n",
    "where \n",
    "\n",
    "$$\\begin{align}\n",
    "(\\mathbf K)_{nm} &= k(\\xi_n, \\xi_m)\\\\\n",
    "(\\mathcal L_{\\rm im} \\mathbf K)_{nm} &= \\left. \\mathcal L^{\\rm im}_{\\xi^\\prime} \\left(k(\\xi, \\xi^\\prime)\\right) \\right |_{\\xi_n, \\xi_m}\\\\\n",
    "(\\mathcal L_{\\rm im}^\\sharp \\mathbf K)_{nm} &= \\left.\\mathcal L^{\\rm im}_{\\xi} \\left(k(\\xi, \\xi^\\prime)\\right) \\right|_{\\xi_n, \\xi_m}\\\\\n",
    "(\\mathcal L^2_{\\rm im} \\mathbf K)_{nm} &= \\left.\\mathcal L^{\\rm im}_{\\xi^\\prime}\\left(\\mathcal L^{\\rm im}_{\\xi} \\left(k(\\xi, \\xi^\\prime)\\right)\\right) \\right|_{\\xi_n, \\xi_m}\n",
    "\\end{align}$$\n",
    "\n",
    "and $\\mathcal L_{\\rm im} \\mathbf K^\\top = \\mathcal L_{\\rm im}^\\sharp \\mathbf K$.\n",
    "\n",
    "To obtain the DRT from impedance, the distribution of $\\mathbf{\\gamma}$ conditioned on $\\mathbf Z^{\\rm exp}_{\\rm im}$ can be written as\n",
    "\n",
    "$$\\boldsymbol{\\gamma}|\\mathbf Z^{\\rm exp}_{\\rm im}\\sim \\mathcal N\\left( \\mathbf \\mu_{\\gamma|Z^{\\rm exp}_{\\rm im}}, \\mathbf\\Sigma_{\\gamma| Z^{\\rm exp}_{\\rm im}}\\right)$$\n",
    "\n",
    "with\n",
    "\n",
    "$$\\begin{align}\n",
    "\\mathbf \\mu_{\\gamma|Z^{\\rm exp}_{\\rm im}} &= \\mathcal L_{\\rm im} \\mathbf K \\left(\\mathcal L^2_{\\rm im} \\mathbf K + \\sigma_n^2 \\mathbf I \\right)^{-1} \\mathbf Z^{\\rm exp}_{\\rm im} \\\\\n",
    "\\mathbf \\Sigma_{\\gamma| Z^{\\rm exp}_{\\rm im}} &= \\mathbf K- \\mathcal L_{\\rm im} \\mathbf K \\left(\\mathcal L^2_{\\rm im} \\mathbf K + \\sigma_n^2 \\mathbf I \\right)^{-1}\\mathcal L_{\\rm im} \\mathbf K^\\top\n",
    "\\end{align}$$"
   ]
  },
  {
   "cell_type": "code",
   "execution_count": 1,
   "metadata": {},
   "outputs": [],
   "source": [
    "import numpy as np\n",
    "import matplotlib.pyplot as plt\n",
    "from math import sin, cos, pi\n",
    "import GP_DRT\n",
    "from scipy.optimize import minimize\n",
    "%matplotlib inline"
   ]
  },
  {
   "cell_type": "markdown",
   "metadata": {},
   "source": [
    "## 1) Define parameters of the ZARC circuit which will be used for the synthetic experiment generation\n",
    "\n",
    "The impedance of a ZARC can be written as\n",
    "$$\n",
    "Z^{\\rm exact}(f) = R_\\infty + \\displaystyle \\frac{1}{\\displaystyle \\frac{1}{R_{\\rm ct}}+C \\left(i 2\\pi f\\right)^\\phi}\n",
    "$$\n",
    "\n",
    "where $\\displaystyle C = \\frac{\\tau_0^\\phi}{R_{\\rm ct}}$.\n",
    "\n",
    "The analytical DRT can be computed analytically as\n",
    "\n",
    "$$\n",
    "\\gamma(\\log \\tau) =  \\displaystyle \\frac{\\displaystyle R_{\\rm ct}}{\\displaystyle 2\\pi} \\displaystyle \\frac{\\displaystyle \\sin\\left((1-\\phi)\\pi\\right)}{\\displaystyle \\cosh(\\phi \\log(\\tau/\\tau_0))-\\cos(\\pi(1-\\phi))}\n",
    "$$"
   ]
  },
  {
   "cell_type": "code",
   "execution_count": 2,
   "metadata": {},
   "outputs": [],
   "source": [
    "# number of frequencies\n",
    "N_freqs = 81\n",
    "\n",
    "# define the frequency range\n",
    "freq_vec = np.logspace(-4., 4., num=N_freqs, endpoint=True)\n",
    "xi_vec = np.log(freq_vec)\n",
    "tau  = 1/freq_vec\n",
    "\n",
    "# define the frequency range used for prediction\n",
    "# note: we could have used other values\n",
    "freq_vec_star = np.logspace(-4., 4., num=N_freqs, endpoint=True)\n",
    "xi_vec_star = np.log(freq_vec_star)\n",
    "\n",
    "# parameters for ZARC model, the impedance and analytical DRT are calculated as the above equations\n",
    "R_inf = 10\n",
    "R_ct = 50\n",
    "phi = 0.8\n",
    "tau_0 = 1.\n",
    "\n",
    "C = tau_0**phi/R_ct\n",
    "Z_exact = R_inf+1./(1./R_ct+C*(1j*2.*pi*freq_vec)**phi)\n",
    "gamma_fct = (R_ct)/(2.*pi)*sin((1.-phi)*pi)/(np.cosh(phi*np.log(tau/tau_0))-cos((1.-phi)*pi))\n",
    "\n",
    "# we will use a finer mesh for plotting the results\n",
    "freq_vec_plot  = np.logspace(-4., 4., num=10*(N_freqs-1), endpoint=True)\n",
    "tau_plot  = 1/freq_vec_plot\n",
    "gamma_fct_plot = (R_ct)/(2.*pi)*sin((1.-phi)*pi)/(np.cosh(phi*np.log(tau_plot/tau_0))-cos((1.-phi)*pi)) # for plotting only\n",
    "\n",
    "# we will add noise to the impedance computed analytically\n",
    "rng = np.random.seed(214975)\n",
    "sigma_n_exp = 1.\n",
    "Z_exp = Z_exact + (sigma_n_exp**2)*(np.random.normal(0, 1, N_freqs)+1j*np.random.normal(0, 1, N_freqs))"
   ]
  },
  {
   "cell_type": "markdown",
   "metadata": {},
   "source": [
    "## 2) Show the synthetic impedance in the Nyquist plot - this is similar to Figure 7 (a)"
   ]
  },
  {
   "cell_type": "code",
   "execution_count": 3,
   "metadata": {},
   "outputs": [
    {
     "data": {
      "image/png": "[encoded data removed]",
      "text/plain": [
       "<Figure size 432x288 with 1 Axes>"
      ]
     },
     "metadata": {
      "needs_background": "light"
     },
     "output_type": "display_data"
    }
   ],
   "source": [
    "# Nyquist plot of the impedance\n",
    "plt.plot(np.real(Z_exact), -np.imag(Z_exact), linewidth=4, color=\"black\", label=\"exact\")\n",
    "plt.plot(np.real(Z_exp), -np.imag(Z_exp), \"o\", markersize=10, color=\"red\", label=\"synthetic experiment\")\n",
    "plt.plot(np.real(Z_exp[20:60:10]), -np.imag(Z_exp[20:60:10]), 's', markersize=10, color=\"black\")\n",
    "\n",
    "plt.rc('text', usetex=True)\n",
    "plt.rc('font', family='serif', size=15)\n",
    "plt.rc('xtick', labelsize=15)\n",
    "plt.rc('ytick', labelsize=15)\n",
    "plt.legend(frameon=False, fontsize = 15)\n",
    "plt.axis('scaled')\n",
    "\n",
    "plt.xticks(range(10, 70, 10))\n",
    "plt.yticks(range(0, 60, 10))\n",
    "plt.gca().set_aspect('equal', adjustable='box')\n",
    "plt.xlabel(r'$Z_{\\rm re}/\\Omega$', fontsize = 20)\n",
    "plt.ylabel(r'$-Z_{\\rm im}/\\Omega$', fontsize = 20)\n",
    "# label the frequency points\n",
    "plt.annotate(r'$10^{-2}$', xy=(np.real(Z_exp[20]), -np.imag(Z_exp[20])), \n",
    "             xytext=(np.real(Z_exp[20])-2, 10-np.imag(Z_exp[20])), \n",
    "             arrowprops=dict(arrowstyle=\"-\",connectionstyle=\"arc\"))\n",
    "plt.annotate(r'$10^{-1}$', xy=(np.real(Z_exp[30]), -np.imag(Z_exp[30])), \n",
    "             xytext=(np.real(Z_exp[30])-2, 6-np.imag(Z_exp[30])), \n",
    "             arrowprops=dict(arrowstyle=\"-\",connectionstyle=\"arc\"))\n",
    "plt.annotate(r'$1$', xy=(np.real(Z_exp[40]), -np.imag(Z_exp[40])), \n",
    "             xytext=(np.real(Z_exp[40]), 10-np.imag(Z_exp[40])), \n",
    "             arrowprops=dict(arrowstyle=\"-\",connectionstyle=\"arc\"))\n",
    "plt.annotate(r'$10$', xy=(np.real(Z_exp[50]), -np.imag(Z_exp[50])), \n",
    "             xytext=(np.real(Z_exp[50])-1, 10-np.imag(Z_exp[50])), \n",
    "             arrowprops=dict(arrowstyle=\"-\",connectionstyle=\"arc\"))\n",
    "plt.show()"
   ]
  },
  {
   "cell_type": "markdown",
   "metadata": {},
   "source": [
    "## 3) Obtain the optimal hyperparameters of the GP-DRT model by minimizing the negative marginal log likelihood (NMLL)\n",
    "\n",
    "We constrain the kernel to be a squared exponential, {\\it i.e.},\n",
    "\n",
    "$$\n",
    "k(\\xi, \\xi^\\prime) = \\sigma_f^2 \\exp\\left(-\\frac{1}{2 \\ell^2}\\left(\\xi-\\xi^\\prime\\right)^2 \\right)\n",
    "$$\n",
    "\n",
    "and modify its two parameters, $\\sigma_f$ and $\\ell$ as well as the noise level $\\sigma_n$. Therefore, the vector of hyperparameters of the GP-DRT is assumed to be $\\boldsymbol \\theta = \\begin{pmatrix} \\sigma_n, \\sigma_f, \\ell  \\end{pmatrix}^\\top$.\n",
    "\n",
    "Following the same derivation from the article we can write that\n",
    "\n",
    "$$\n",
    "\\log p(\\mathbf Z^{\\rm exp}_{\\rm im}|\\boldsymbol \\xi, \\boldsymbol \\theta)= - \\frac{1}{2} {\\mathbf Z^{\\rm exp}_{\\rm im}}^\\top \\left(\\mathcal L^2_{\\rm im} \\mathbf K +\\sigma_n^2\\mathbf I \\right)^{-1} \\mathbf Z^{\\rm exp}_{\\rm im} -\\frac{1}{2} \\log \\left| \\mathcal L^2_{\\rm im} \\mathbf K+\\sigma_n^2\\mathbf I  \\right| - \\frac{N}{2} \\log 2\\pi\n",
    "$$\n",
    "\n",
    "We will call $L(\\boldsymbol \\theta)$ the negative (and shifted) MLL (NMLL):\n",
    "$$\n",
    "L(\\boldsymbol \\theta) = - \\log p(\\mathbf Z^{\\rm exp}_{\\rm im}|\\boldsymbol \\xi, \\boldsymbol \\theta) - \\frac{N}{2} \\log 2\\pi\n",
    "$$\n",
    "\n",
    "the experimental evidence is maximized for\n",
    "\n",
    "$$\n",
    "\\boldsymbol \\theta = {\\rm argmin}_{\\boldsymbol \\theta^\\prime}L(\\boldsymbol \\theta^\\prime)\n",
    "$$"
   ]
  },
  {
   "cell_type": "code",
   "execution_count": 4,
   "metadata": {},
   "outputs": [
    {
     "name": "stdout",
     "output_type": "stream",
     "text": [
      "sigma_n,  sigma_f,  ell\n",
      "0.890360, 5.001415, 1.012087\n",
      "0.813635, 5.003534, 1.029191\n",
      "0.829186, 5.035787, 1.258867\n",
      "0.830393, 5.083238, 1.211778\n",
      "0.830449, 5.206076, 1.228366\n",
      "0.830519, 5.387441, 1.252415\n",
      "0.830523, 5.406900, 1.254665\n",
      "0.830526, 5.407098, 1.254689\n",
      "0.830527, 5.407092, 1.254687\n",
      "Optimization terminated successfully.\n",
      "         Current function value: 53.657989\n",
      "         Iterations: 9\n",
      "         Function evaluations: 11\n",
      "         Gradient evaluations: 153\n",
      "         Hessian evaluations: 0\n"
     ]
    }
   ],
   "source": [
    "# initialize the parameter for global 3D optimization to maximize the marginal log-likelihood as shown in eq (31)\n",
    "sigma_n = sigma_n_exp\n",
    "sigma_f = 5.\n",
    "ell = 1.\n",
    "\n",
    "theta_0 = np.array([sigma_n, sigma_f, ell])\n",
    "seq_theta = np.copy(theta_0)\n",
    "def print_results(theta):\n",
    "    global seq_theta\n",
    "    seq_theta = np.vstack((seq_theta, theta))\n",
    "    print('%f, %f, %f' %(theta[0], theta[1], theta[2]))\n",
    "    \n",
    "print('sigma_n,  sigma_f,  ell')\n",
    "\n",
    "# minimize the NMLL L(\\theta) w.r.t sigma_n, sigma_f, ell using the Newton-CG method as implemented in scipy\n",
    "res = minimize(GP_DRT.NMLL_fct, theta_0, args=(Z_exp, xi_vec), method='Newton-CG', \\\n",
    "               jac=GP_DRT.grad_NMLL_fct,  callback=print_results, options={'disp': True})\n",
    "\n",
    "# collect the optimized parameters\n",
    "sigma_n, sigma_f, ell = res.x"
   ]
  },
  {
   "cell_type": "markdown",
   "metadata": {},
   "source": [
    "## 4) Core of the GP-DRT"
   ]
  },
  {
   "cell_type": "markdown",
   "metadata": {},
   "source": [
    "### 4a) Compute matrices\n",
    "Once we have identified the optimized parameters we can compute $\\mathbf K$, $\\mathcal L_{\\rm im} \\mathbf K$, and $\\mathcal L^2_{\\rm im} \\mathbf K$, which are given in equation (18) in the article"
   ]
  },
  {
   "cell_type": "code",
   "execution_count": 5,
   "metadata": {},
   "outputs": [],
   "source": [
    "K = GP_DRT.matrix_K(xi_vec, xi_vec, sigma_f, ell)\n",
    "L_im_K = GP_DRT.matrix_L_im_K(xi_vec, xi_vec, sigma_f, ell)\n",
    "L2_im_K = GP_DRT.matrix_L2_im_K(xi_vec, xi_vec, sigma_f, ell)\n",
    "Sigma = (sigma_n**2)*np.eye(N_freqs)\n",
    "\n",
    "# in the next step we will need the inverse of the matrix $\\mathcal L^2_{\\rm im} \\mathbf K + \\sigma_n^2 \\mathbf I$ \n",
    "K_im_full = L2_im_K + Sigma"
   ]
  },
  {
   "cell_type": "markdown",
   "metadata": {},
   "source": [
    "### 4b) Factorize the matrices and solve the linear equations\n",
    "We are computing\n",
    "$$\n",
    "\\boldsymbol{\\gamma}|\\mathbf Z^{\\rm exp}_{\\rm im}\\sim \\mathcal N\\left( \\boldsymbol \\mu_{\\gamma|Z^{\\rm exp}_{\\rm im}}, \\boldsymbol \\Sigma_{\\gamma| Z^{\\rm exp}_{\\rm im}}\\right)\n",
    "$$\n",
    "\n",
    "using \n",
    "$$\n",
    "\\begin{align}\n",
    "\\boldsymbol \\mu_{\\gamma|Z^{\\rm exp}_{\\rm im}} &= \\mathcal L_{\\rm im} \\mathbf K\\left(\\mathcal L^2_{\\rm im} \\mathbf K+\\sigma_n^2\\mathbf I\\right)^{-1}\\mathbf Z^{\\rm exp}_{\\rm im} \\\\\n",
    "\\boldsymbol \\Sigma_{\\gamma| Z^{\\rm exp}_{\\rm im}} &= \\mathbf K-\\mathcal L_{\\rm im} \\mathbf K\\left(\\mathcal L^2_{\\rm im} \\mathbf K+\\sigma_n^2\\mathbf I\\right)^{-1}\\mathcal L_{\\rm im} \\mathbf K^\\top\n",
    "\\end{align}\n",
    "$$\n",
    "\n",
    "The key ingredient is to do Cholesky factorization of $\\mathcal L^2_{\\rm im} \\mathbf K+\\sigma_n^2\\mathbf I$"
   ]
  },
  {
   "cell_type": "code",
   "execution_count": 6,
   "metadata": {},
   "outputs": [],
   "source": [
    "# Cholesky factorization, L is a lower-triangular matrix\n",
    "L = np.linalg.cholesky(K_im_full)\n",
    "\n",
    "# solve the following\n",
    "alpha = np.linalg.solve(L, Z_exp.imag)\n",
    "alpha = np.linalg.solve(L.T, alpha)\n",
    "\n",
    "# estimate the gamma of eq (21a), the minus sign, which is not included in L_im_K, refers to eq (65)\n",
    "gamma_fct_est = -np.dot(L_im_K.T, alpha)\n",
    "\n",
    "# covariance matrix\n",
    "inv_L = np.linalg.inv(L)\n",
    "inv_K_im_full = np.dot(inv_L.T, inv_L)\n",
    "np.diag(np.dot(inv_K_im_full, K_im_full))\n",
    "\n",
    "# estimate the sigma of gamma, from eq (21b)\n",
    "cov_gamma_fct_est = K - np.dot(L_im_K.T, np.dot(inv_K_im_full, L_im_K))\n",
    "sigma_gamma_fct_est = np.sqrt(np.diag(cov_gamma_fct_est))"
   ]
  },
  {
   "cell_type": "markdown",
   "metadata": {},
   "source": [
    "### 4c) Plot the obtained DRT against the analytical DRT"
   ]
  },
  {
   "cell_type": "code",
   "execution_count": 7,
   "metadata": {},
   "outputs": [
    {
     "data": {
      "image/png": "[encoded data removed]",
      "text/plain": [
       "<Figure size 432x288 with 1 Axes>"
      ]
     },
     "metadata": {
      "needs_background": "light"
     },
     "output_type": "display_data"
    }
   ],
   "source": [
    "# plot the DRT and its confidence region\n",
    "plt.semilogx(freq_vec_plot, gamma_fct_plot, linewidth=4, color=\"black\", label=\"exact\")\n",
    "plt.semilogx(freq_vec, gamma_fct_est, linewidth=4, color=\"red\", label=\"GP-DRT\")\n",
    "plt.fill_between(freq_vec, gamma_fct_est-3*sigma_gamma_fct_est, gamma_fct_est+3*sigma_gamma_fct_est, color=\"0.4\", alpha=0.3)\n",
    "plt.rc('text', usetex=True)\n",
    "plt.rc('font', family='serif', size=15)\n",
    "plt.rc('xtick', labelsize=15)\n",
    "plt.rc('ytick', labelsize=15)\n",
    "plt.axis([1E-4,1E4,-5,25])\n",
    "plt.legend(frameon=False, fontsize = 15)\n",
    "plt.xlabel(r'$f/{\\rm Hz}$', fontsize = 20)\n",
    "plt.ylabel(r'$\\gamma/\\Omega$', fontsize = 20)\n",
    "plt.show()"
   ]
  },
  {
   "cell_type": "markdown",
   "metadata": {},
   "source": [
    "### 4d) Predict the $\\gamma$ and the imaginary part of the GP-DRT impedance\n",
    "\n",
    "This part is explained in Section 2.3.3 of the main article "
   ]
  },
  {
   "cell_type": "code",
   "execution_count": 8,
   "metadata": {},
   "outputs": [],
   "source": [
    "# initialize the imaginary part of impedance vector\n",
    "Z_im_vec_star = np.empty_like(xi_vec_star)\n",
    "Sigma_Z_im_vec_star = np.empty_like(xi_vec_star)\n",
    "\n",
    "gamma_vec_star = np.empty_like(xi_vec_star)\n",
    "Sigma_gamma_vec_star = np.empty_like(xi_vec_star)\n",
    "\n",
    "# calculate the imaginary part of impedance at each $\\xi$ point for the plot\n",
    "for index, val in enumerate(xi_vec_star):\n",
    "    xi_star = np.array([val])\n",
    "\n",
    "    # compute matrices shown in eq (18), k_star corresponds to a new point\n",
    "    k_star = GP_DRT.matrix_K(xi_vec, xi_star, sigma_f, ell)\n",
    "    L_im_k_star = GP_DRT.matrix_L_im_K(xi_vec, xi_star, sigma_f, ell)\n",
    "    L2_im_k_star = GP_DRT.matrix_L2_im_K(xi_vec, xi_star, sigma_f, ell)\n",
    "    k_star_star = GP_DRT.matrix_K(xi_star, xi_star, sigma_f, ell)\n",
    "    L_im_k_star_star = GP_DRT.matrix_L_im_K(xi_star, xi_star, sigma_f, ell)\n",
    "    L2_im_k_star_star = GP_DRT.matrix_L2_im_K(xi_star, xi_star, sigma_f, ell)\n",
    "\n",
    "    # compute Z_im_star mean and standard deviation using eq (26)\n",
    "    Z_im_vec_star[index] = np.dot(L2_im_k_star.T, np.dot(inv_K_im_full, Z_exp.imag))\n",
    "    Sigma_Z_im_vec_star[index] = L2_im_k_star_star-np.dot(L2_im_k_star.T, np.dot(inv_K_im_full, L2_im_k_star))\n",
    "    \n",
    "    # compute Z_im_star mean and standard deviation\n",
    "    gamma_vec_star[index] = -np.dot(L_im_k_star.T, np.dot(inv_K_im_full, Z_exp.imag))\n",
    "    Sigma_gamma_vec_star[index] = k_star_star-np.dot(L_im_k_star.T, np.dot(inv_K_im_full, L_im_k_star))"
   ]
  },
  {
   "cell_type": "markdown",
   "metadata": {},
   "source": [
    "### 4e) Plot the imaginary part of the GP-DRT impedance together with the exact one and the synthetic experiment"
   ]
  },
  {
   "cell_type": "code",
   "execution_count": 9,
   "metadata": {},
   "outputs": [
    {
     "data": {
      "image/png": "[encoded data removed]",
      "text/plain": [
       "<Figure size 432x288 with 1 Axes>"
      ]
     },
     "metadata": {
      "needs_background": "light"
     },
     "output_type": "display_data"
    }
   ],
   "source": [
    "plt.semilogx(freq_vec_star, -np.imag(Z_exact), \":\", linewidth=4, color=\"blue\", label=\"exact\")\n",
    "plt.semilogx(freq_vec, -Z_exp.imag, \"o\", markersize=10, color=\"black\", label=\"synth exp\")\n",
    "plt.semilogx(freq_vec_star, -Z_im_vec_star, linewidth=4, color=\"red\", label=\"GP-DRT\")\n",
    "plt.fill_between(freq_vec_star, -Z_im_vec_star-3*np.sqrt(abs(Sigma_Z_im_vec_star)), -Z_im_vec_star+3*np.sqrt(abs(Sigma_Z_im_vec_star)), alpha=0.3)\n",
    "plt.rc('text', usetex=True)\n",
    "plt.rc('font', family='serif', size=15)\n",
    "plt.rc('xtick', labelsize=15)\n",
    "plt.rc('ytick', labelsize=15)\n",
    "plt.axis([1E-4,1E4,-5,25])\n",
    "plt.legend(frameon=False, fontsize = 15)\n",
    "plt.xlabel(r'$f/{\\rm Hz}$', fontsize = 20)\n",
    "plt.ylabel(r'$-Z_{\\rm im}/\\Omega$', fontsize = 20)\n",
    "plt.show()"
   ]
  }
 ],
 "metadata": {
  "kernelspec": {
   "display_name": "Python 3",
   "language": "python",
   "name": "python3"
  },
  "language_info": {
   "codemirror_mode": {
    "name": "ipython",
    "version": 3
   },
   "file_extension": ".py",
   "mimetype": "text/x-python",
   "name": "python",
   "nbconvert_exporter": "python",
   "pygments_lexer": "ipython3",
   "version": "3.7.5"
  }
 },
 "nbformat": 4,
 "nbformat_minor": 2
}
