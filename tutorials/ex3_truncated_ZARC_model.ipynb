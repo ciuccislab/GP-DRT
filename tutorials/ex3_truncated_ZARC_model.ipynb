{
 "cells": [
  {
   "cell_type": "markdown",
   "metadata": {},
   "source": [
    "# Gaussian Process Distribution of Relaxation Times. \n",
    "## In this tutorial we will reproduce Figure 8 of the article https://doi.org/10.1016/j.electacta.2019.135316\n",
    "\n",
    "This tutorial shows how the GP-DRT model can recover DRT from the impedance missing some data points and predict the impedance value at frequencies that were not previously measured\n",
    "\n",
    "The impedance and analytical DRT in this tutorial share the same format as in ex1_simple_ZARC_model. The only difference  is that impedance here at lower frequencies ($f < 10^{-3}~{\\rm Hz}$) are not available."
   ]
  },
  {
   "cell_type": "code",
   "execution_count": 1,
   "metadata": {},
   "outputs": [],
   "source": [
    "import numpy as np\n",
    "import matplotlib.pyplot as plt\n",
    "from math import sin, cos, pi\n",
    "import GP_DRT\n",
    "from scipy.optimize import minimize\n",
    "%matplotlib inline"
   ]
  },
  {
   "cell_type": "markdown",
   "metadata": {},
   "source": [
    "## 1) Define parameters for the synthetic impedance based on two ZARCs in series. Thi is identical to the corresponding part part in ex1_simple_ZARC_model tutorial"
   ]
  },
  {
   "cell_type": "code",
   "execution_count": 2,
   "metadata": {},
   "outputs": [],
   "source": [
    "# define the frequency range\n",
    "N_freqs = 71\n",
    "freq_vec = np.logspace(-3., 4., num=N_freqs, endpoint=True)\n",
    "xi_vec = np.log(freq_vec)\n",
    "tau  = 1/freq_vec\n",
    "\n",
    "# define the frequency range used for prediction\n",
    "freq_vec_star = np.logspace(-4., 4., num=81, endpoint=True)\n",
    "xi_vec_star = np.log(freq_vec_star)\n",
    "\n",
    "# parameters for ZARC model\n",
    "R_inf = 10\n",
    "R_ct = 50\n",
    "phi = 0.8\n",
    "tau_0 = 1.\n",
    "\n",
    "C = tau_0**phi/R_ct\n",
    "Z_exact = R_inf+1./(1./R_ct+C*(1j*2.*pi*freq_vec)**phi)\n",
    "gamma_fct = (R_ct)/(2.*pi)*sin((1.-phi)*pi)/(np.cosh(phi*np.log(tau/tau_0))-cos((1.-phi)*pi))\n",
    "\n",
    "# used for plotting only\n",
    "freq_vec_plot  = np.logspace(-4., 4., num=10*(N_freqs-1), endpoint=True)\n",
    "tau_plot  = 1/freq_vec_plot\n",
    "gamma_fct_plot = (R_ct)/(2.*pi)*sin((1.-phi)*pi)/(np.cosh(phi*np.log(tau_plot/tau_0))-cos((1.-phi)*pi)) # for plotting only\n",
    "\n",
    "# random noise\n",
    "rng = np.random.seed(214974)\n",
    "sigma_n_exp = 0.1\n",
    "Z_exp = Z_exact + sigma_n_exp*(np.random.normal(0, 1, N_freqs)+1j*np.random.normal(0, 1, N_freqs))"
   ]
  },
  {
   "cell_type": "markdown",
   "metadata": {},
   "source": [
    "## 2) show the synthetic impedance in a Nyquist plot\n",
    "## Note: this is similar to Figure 8 (a)"
   ]
  },
  {
   "cell_type": "code",
   "execution_count": 3,
   "metadata": {},
   "outputs": [
    {
     "data": {
      "image/png": "[encoded data removed]",
      "text/plain": [
       "<Figure size 432x288 with 1 Axes>"
      ]
     },
     "metadata": {
      "needs_background": "light"
     },
     "output_type": "display_data"
    }
   ],
   "source": [
    "# Nyquist plot of impedance together with labeled frequency points\n",
    "fig, ax = plt.subplots()\n",
    "plt.plot(np.real(Z_exact), -np.imag(Z_exact), linewidth=4, color=\"black\", label=\"exact\")\n",
    "plt.plot(np.real(Z_exp), -np.imag(Z_exp), \"o\", markersize=10, color=\"red\", label=\"synth exp\")\n",
    "plt.annotate(r'$10^{-3}$', xy=(np.real(Z_exp[0]), -np.imag(Z_exp[0])), \n",
    "             xytext=(np.real(Z_exp[0])-15, -np.imag(Z_exp[0])), \n",
    "             arrowprops=dict(arrowstyle=\"-\",connectionstyle=\"arc\"))\n",
    "plt.annotate(r'$10^{-2}$', xy=(np.real(Z_exp[10]), -np.imag(Z_exp[10])), \n",
    "             xytext=(np.real(Z_exp[10])-2, 10-np.imag(Z_exp[10])), \n",
    "             arrowprops=dict(arrowstyle=\"-\",connectionstyle=\"arc\"))\n",
    "plt.annotate(r'$10^{-1}$', xy=(np.real(Z_exp[20]), -np.imag(Z_exp[20])), \n",
    "             xytext=(np.real(Z_exp[20])-2, 6-np.imag(Z_exp[20])), \n",
    "             arrowprops=dict(arrowstyle=\"-\",connectionstyle=\"arc\"))\n",
    "plt.annotate(r'$1$', xy=(np.real(Z_exp[30]), -np.imag(Z_exp[30])), \n",
    "             xytext=(np.real(Z_exp[30]), 10-np.imag(Z_exp[30])), \n",
    "             arrowprops=dict(arrowstyle=\"-\",connectionstyle=\"arc\"))\n",
    "plt.annotate(r'$10$', xy=(np.real(Z_exp[40]), -np.imag(Z_exp[40])), \n",
    "             xytext=(np.real(Z_exp[40])-1, 10-np.imag(Z_exp[40])), \n",
    "             arrowprops=dict(arrowstyle=\"-\",connectionstyle=\"arc\"))\n",
    "plt.rc('text', usetex=True)\n",
    "plt.rc('font', family='serif', size=15)\n",
    "plt.rc('xtick', labelsize=15)\n",
    "plt.rc('ytick', labelsize=15)\n",
    "plt.legend(frameon=False, fontsize = 15)\n",
    "plt.axis('scaled')\n",
    "\n",
    "plt.xticks(range(10, 70, 10))\n",
    "plt.yticks(range(0, 60, 10))\n",
    "plt.gca().set_aspect('equal', adjustable='box')\n",
    "plt.xlabel(r'$Z_{\\rm re}/\\Omega$', fontsize = 20)\n",
    "plt.ylabel(r'$-Z_{\\rm im}/\\Omega$', fontsize = 20)\n",
    "plt.show()"
   ]
  },
  {
   "cell_type": "markdown",
   "metadata": {},
   "source": [
    "## 3) Compute the optimal hyperparameters"
   ]
  },
  {
   "cell_type": "code",
   "execution_count": 4,
   "metadata": {},
   "outputs": [
    {
     "name": "stdout",
     "output_type": "stream",
     "text": [
      "sigma_n,           sigma_f,          ell\n",
      "0.10500942736075927 5.000109746003586 0.9994336625439681\n",
      "0.1048100773859529 5.010790331298824 0.9481657840181623\n",
      "0.1047302460586072 5.030622548094366 0.8953988564969791\n",
      "0.10475540904577985 5.237444523486087 0.9106814678680777\n",
      "0.10472487573823605 5.676215329504294 0.9284003043270194\n",
      "0.10473005438041194 5.795235537890937 0.9351540641146868\n",
      "0.10472941318177345 5.80253619985885 0.9355971313376413\n",
      "0.10472965096979618 5.8025364771941526 0.9355918186474462\n",
      "Optimization terminated successfully.\n",
      "         Current function value: -68.171912\n",
      "         Iterations: 8\n",
      "         Function evaluations: 9\n",
      "         Gradient evaluations: 62\n",
      "         Hessian evaluations: 0\n"
     ]
    }
   ],
   "source": [
    "# initialize the parameter for global 3D optimization to maximize the marginal log-likelihood as shown in eq (31)\n",
    "sigma_n = sigma_n_exp\n",
    "sigma_f = 5.\n",
    "ell = 1.\n",
    "\n",
    "theta_0 = np.array([sigma_n, sigma_f, ell])\n",
    "seq_theta = np.copy(theta_0)\n",
    "def print_results(theta):\n",
    "    global seq_theta\n",
    "    seq_theta = np.vstack((seq_theta, theta))\n",
    "    print(theta[0], theta[1], theta[2])\n",
    "    \n",
    "GP_DRT.NMLL_fct(theta_0, Z_exp, xi_vec)\n",
    "GP_DRT.grad_NMLL_fct(theta_0, Z_exp, xi_vec)\n",
    "print('sigma_n,           sigma_f,          ell')\n",
    "\n",
    "# minimize the NMLL L(\\theta) w.r.t sigma_n, sigma_f, ell using the Newton-CG method as implemented in scipy\n",
    "res = minimize(GP_DRT.NMLL_fct, theta_0, args=(Z_exp, xi_vec), method='Newton-CG', \\\n",
    "               jac=GP_DRT.grad_NMLL_fct,  callback=print_results, options={'disp': True})"
   ]
  },
  {
   "cell_type": "markdown",
   "metadata": {},
   "source": [
    "## 4) Core of the GP-DRT"
   ]
  },
  {
   "cell_type": "markdown",
   "metadata": {},
   "source": [
    "### 4a) Compute matrices"
   ]
  },
  {
   "cell_type": "code",
   "execution_count": 5,
   "metadata": {},
   "outputs": [],
   "source": [
    "# collect the optimized parameters\n",
    "sigma_n, sigma_f, ell = res.x\n",
    "\n",
    "# calculate the matrices shown in eq (18)\n",
    "K = GP_DRT.matrix_K(xi_vec, xi_vec, sigma_f, ell)\n",
    "L_im_K = GP_DRT.matrix_L_im_K(xi_vec, xi_vec, sigma_f, ell)\n",
    "L2_im_K = GP_DRT.matrix_L2_im_K(xi_vec, xi_vec, sigma_f, ell)\n",
    "Sigma = (sigma_n**2)*np.eye(N_freqs)"
   ]
  },
  {
   "cell_type": "markdown",
   "metadata": {},
   "source": [
    "### 4b) Factorize the matrices and solve the linear equations"
   ]
  },
  {
   "cell_type": "code",
   "execution_count": 6,
   "metadata": {},
   "outputs": [],
   "source": [
    "# the matrix $\\mathcal L^2_{\\rm im} \\mathbf K + \\sigma_n^2 \\mathbf I$ whose inverse is needed\n",
    "K_im_full = L2_im_K + Sigma\n",
    "\n",
    "# Cholesky factorization, L is a lower-triangular matrix\n",
    "L = np.linalg.cholesky(K_im_full)\n",
    "\n",
    "# solve for alpha\n",
    "alpha = np.linalg.solve(L, Z_exp.imag)\n",
    "alpha = np.linalg.solve(L.T, alpha)\n",
    "\n",
    "# estimate the gamma of eq (21a), the minus sign, which is not included in L_im_K, refers to eq (65)\n",
    "gamma_fct_est = -np.dot(L_im_K.T, alpha)\n",
    "\n",
    "# covariance matrix\n",
    "inv_L = np.linalg.inv(L)\n",
    "inv_K_im_full = np.dot(inv_L.T, inv_L)\n",
    "inv_K_im_full2 = np.linalg.inv(K_im_full)\n",
    "np.diag(np.dot(inv_K_im_full, K_im_full))\n",
    "\n",
    "# estimate the sigma of gamma for eq (21b)\n",
    "cov_gamma_fct_est = K - np.dot(L_im_K.T, np.dot(inv_K_im_full, L_im_K))\n",
    "sigma_gamma_fct_est = np.sqrt(np.diag(cov_gamma_fct_est))"
   ]
  },
  {
   "cell_type": "markdown",
   "metadata": {},
   "source": [
    "### 4c) Predict the imaginary part of the GP-DRT and impedance"
   ]
  },
  {
   "cell_type": "code",
   "execution_count": 7,
   "metadata": {},
   "outputs": [],
   "source": [
    "# initialize the imaginary part of impedance vector\n",
    "Z_im_vec_star = np.empty_like(xi_vec_star)\n",
    "Sigma_Z_im_vec_star = np.empty_like(xi_vec_star)\n",
    "\n",
    "gamma_vec_star = np.empty_like(xi_vec_star)\n",
    "Sigma_gamma_vec_star = np.empty_like(xi_vec_star)\n",
    "\n",
    "# calculate the imaginary part of impedance at each $\\xi$ point for the plot\n",
    "for index, val in enumerate(xi_vec_star):\n",
    "    xi_star = np.array([val])\n",
    "\n",
    "    # compute matrices shown in eq (18), k_star corresponds to a new point\n",
    "    k_star = GP_DRT.matrix_K(xi_vec, xi_star, sigma_f, ell)\n",
    "    L_im_k_star = GP_DRT.matrix_L_im_K(xi_vec, xi_star, sigma_f, ell) #; L_im_k_star = L_im_k_star.T\n",
    "    L2_im_k_star = GP_DRT.matrix_L2_im_K(xi_star, xi_vec, sigma_f, ell); L2_im_k_star= L2_im_k_star.T\n",
    "    k_star_star = GP_DRT.matrix_K(xi_star, xi_star, sigma_f, ell)\n",
    "    L_im_k_star_star = GP_DRT.matrix_L_im_K(xi_star, xi_star, sigma_f, ell)\n",
    "    L2_im_k_star_star = GP_DRT.matrix_L2_im_K(xi_star, xi_star, sigma_f, ell)\n",
    "\n",
    "    # compute Z_im_star mean and standard deviation using eq (26)\n",
    "    Z_im_vec_star[index] = np.dot(L2_im_k_star.T,np.dot(inv_K_im_full,Z_exp.imag))\n",
    "    Sigma_Z_im_vec_star[index] = L2_im_k_star_star-np.dot(L2_im_k_star.T, np.dot(inv_K_im_full, L2_im_k_star))\n",
    "    \n",
    "    # compute Z_im_star mean and standard deviation\n",
    "    gamma_vec_star[index] = -np.dot(L_im_k_star.T,np.dot(inv_K_im_full,Z_exp.imag))\n",
    "    Sigma_gamma_vec_star[index] = k_star_star-np.dot(L_im_k_star.T, np.dot(inv_K_im_full, L_im_k_star))\n"
   ]
  },
  {
   "cell_type": "markdown",
   "metadata": {},
   "source": [
    "### 4d) Plot the obtained GP-DRT against the analytical DRT\n",
    "Note: we can see the prediction credibility interval broadening at low frequencies"
   ]
  },
  {
   "cell_type": "code",
   "execution_count": 8,
   "metadata": {},
   "outputs": [
    {
     "data": {
      "image/png": "[encoded data removed]",
      "text/plain": [
       "<Figure size 432x288 with 1 Axes>"
      ]
     },
     "metadata": {
      "needs_background": "light"
     },
     "output_type": "display_data"
    }
   ],
   "source": [
    "# plot the DRT and its confidence region\n",
    "plt.semilogx(freq_vec_plot, gamma_fct_plot, linewidth=4, color=\"black\", label=\"exact\")\n",
    "plt.semilogx(freq_vec_star, gamma_vec_star, linewidth=4, color=\"red\", label=\"GP-DRT\")\n",
    "plt.semilogx([1E-3, 1E-3], [-5, 25], ':', linewidth=3, color=\"black\")\n",
    "plt.fill_between(freq_vec_star, gamma_vec_star-3*np.sqrt(abs(Sigma_gamma_vec_star)), gamma_vec_star+3*np.sqrt(abs(Sigma_gamma_vec_star)), color=\"0.4\", alpha=0.3)\n",
    "plt.rc('text', usetex=True)\n",
    "plt.rc('font', family='serif', size=15)\n",
    "plt.rc('xtick', labelsize=15)\n",
    "plt.rc('ytick', labelsize=15)\n",
    "plt.axis([1E-4,1E4,-5,25])\n",
    "plt.legend(frameon=False, fontsize = 15)\n",
    "plt.xlabel(r'$f/{\\rm Hz}$', fontsize = 20)\n",
    "plt.ylabel(r'$\\gamma/\\Omega$', fontsize = 20)\n",
    "plt.show()"
   ]
  },
  {
   "cell_type": "markdown",
   "metadata": {},
   "source": [
    "### 4e) Plot the imaginary part of the GP-DRT impedance together with the exact one and the synthetic experiment\n",
    "Note: we can see the prediction credibility interval broadening at low frequencies"
   ]
  },
  {
   "cell_type": "code",
   "execution_count": 9,
   "metadata": {},
   "outputs": [
    {
     "data": {
      "image/png": "[encoded data removed]",
      "text/plain": [
       "<Figure size 432x288 with 1 Axes>"
      ]
     },
     "metadata": {
      "needs_background": "light"
     },
     "output_type": "display_data"
    }
   ],
   "source": [
    "plt.semilogx(freq_vec, -Z_exp.imag, \"o\", markersize=10, color=\"black\", label=\"synth exp\")\n",
    "plt.semilogx(freq_vec_star, -Z_im_vec_star, linewidth=4, color=\"red\", label=\"GP-DRT\")\n",
    "plt.semilogx([1E-3, 1E-3], [-5, 25], ':', linewidth=3, color=\"black\")\n",
    "plt.fill_between(freq_vec_star, -Z_im_vec_star-3*np.sqrt(abs(Sigma_Z_im_vec_star)), -Z_im_vec_star+3*np.sqrt(abs(Sigma_Z_im_vec_star)), alpha=0.3)\n",
    "plt.rc('text', usetex=True)\n",
    "plt.rc('font', family='serif', size=15)\n",
    "plt.rc('xtick', labelsize=15)\n",
    "plt.rc('ytick', labelsize=15)\n",
    "plt.axis([1E-4,1E4,-5,25])\n",
    "plt.legend(frameon=False, fontsize = 15)\n",
    "plt.xlabel(r'$f/{\\rm Hz}$', fontsize = 20)\n",
    "plt.ylabel(r'$-Z_{\\rm im}/\\Omega$', fontsize = 20)\n",
    "plt.show()"
   ]
  }
 ],
 "metadata": {
  "kernelspec": {
   "display_name": "Python 3",
   "language": "python",
   "name": "python3"
  },
  "language_info": {
   "codemirror_mode": {
    "name": "ipython",
    "version": 3
   },
   "file_extension": ".py",
   "mimetype": "text/x-python",
   "name": "python",
   "nbconvert_exporter": "python",
   "pygments_lexer": "ipython3",
   "version": "3.7.5"
  }
 },
 "nbformat": 4,
 "nbformat_minor": 2
}
